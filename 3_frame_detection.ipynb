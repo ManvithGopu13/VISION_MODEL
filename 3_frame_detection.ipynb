{
 "cells": [
  {
   "cell_type": "code",
   "execution_count": 1,
   "id": "888a9259",
   "metadata": {},
   "outputs": [],
   "source": [
    "import torch"
   ]
  },
  {
   "cell_type": "code",
   "execution_count": 2,
   "id": "76d28f35",
   "metadata": {},
   "outputs": [],
   "source": [
    "def detect_events_on(frames):\n",
    "    \"\"\" \n",
    "    Detects events/objects on given frames using YOLOv5. \n",
    "\n",
    "    Args:\n",
    "        frames (list): List of paths to frame images.\n",
    "    Returns:\n",
    "        detections (dict): Mapping from frame path to detected objects.\n",
    "    \"\"\"\n",
    "\n",
    "    model = torch.hub.load('ultralytics/yolov5', 'yolov5s', pretrained=True)\n",
    "\n",
    "    detections = {}\n",
    "\n",
    "    for frame_path in frames:\n",
    "        img = frame_path\n",
    "        results = model(img)\n",
    "        detected = results.pandas().xyxy[0]\n",
    "        detections[frame_path] = detected.to_dict(orient='records')\n",
    "\n",
    "    return detections"
   ]
  },
  {
   "cell_type": "code",
   "execution_count": 3,
   "id": "07cdab1f",
   "metadata": {},
   "outputs": [],
   "source": [
    "import cv2\n",
    "import os\n",
    "\n",
    "def extract_frames(video_path, output_folder, fps = 1):\n",
    "    \"\"\" \n",
    "    Extracts frames from video at the specified frames for second rate.\n",
    "\n",
    "    Args: \n",
    "        video_path (str): Path to the input video file.\n",
    "        output_folder (str): Directory where extracted frames will be saved.\n",
    "        fps (int): Frames per second rate for extraction. Default is 1.\n",
    "\n",
    "    Returns:\n",
    "        List of frame file paths extracted.\n",
    "    \"\"\"\n",
    "\n",
    "    if not os.path.exists(output_folder):\n",
    "        os.makedirs(output_folder)\n",
    "\n",
    "    cap = cv2.VideoCapture(video_path)\n",
    "    original_fps = cap.get(cv2.CAP_PROP_FPS)\n",
    "    frame_interval = int(original_fps / fps)\n",
    "\n",
    "    count = 0\n",
    "    saved_frames = []\n",
    "\n",
    "    while True:\n",
    "        ret, frame = cap.read()\n",
    "        if not ret:\n",
    "            break\n",
    "\n",
    "        if count % frame_interval == 0:\n",
    "            frame_path = os.path.join(output_folder, f\"frame_{count}.jpg\")\n",
    "            cv2.imwrite(frame_path, frame)\n",
    "            saved_frames.append(frame_path)\n",
    "        count += 1\n",
    "\n",
    "    cap.release()\n",
    "    return saved_frames"
   ]
  },
  {
   "cell_type": "code",
   "execution_count": 4,
   "id": "48e7adb5",
   "metadata": {},
   "outputs": [
    {
     "name": "stderr",
     "output_type": "stream",
     "text": [
      "Using cache found in C:\\Users\\10839330/.cache\\torch\\hub\\ultralytics_yolov5_master\n"
     ]
    },
    {
     "name": "stdout",
     "output_type": "stream",
     "text": [
      "Creating new Ultralytics Settings v0.0.6 file  \n",
      "View Ultralytics Settings with 'yolo settings' or at 'C:\\Users\\10839330\\AppData\\Roaming\\Ultralytics\\settings.json'\n",
      "Update Settings with 'yolo settings key=value', i.e. 'yolo settings runs_dir=path/to/dir'. For help see https://docs.ultralytics.com/quickstart/#ultralytics-settings.\n"
     ]
    },
    {
     "name": "stderr",
     "output_type": "stream",
     "text": [
      "C:\\Users\\10839330/.cache\\torch\\hub\\ultralytics_yolov5_master\\utils\\general.py:32: UserWarning: pkg_resources is deprecated as an API. See https://setuptools.pypa.io/en/latest/pkg_resources.html. The pkg_resources package is slated for removal as early as 2025-11-30. Refrain from using this package or pin to Setuptools<81.\n",
      "  import pkg_resources as pkg\n",
      "YOLOv5  2025-8-5 Python-3.13.1 torch-2.7.1+cpu CPU\n",
      "\n",
      "Downloading https://github.com/ultralytics/yolov5/releases/download/v7.0/yolov5s.pt to yolov5s.pt...\n",
      "100%|██████████| 14.1M/14.1M [00:03<00:00, 4.18MB/s]\n",
      "\n",
      "Fusing layers... \n",
      "YOLOv5s summary: 213 layers, 7225885 parameters, 0 gradients, 16.4 GFLOPs\n",
      "Adding AutoShape... \n",
      "C:\\Users\\10839330/.cache\\torch\\hub\\ultralytics_yolov5_master\\models\\common.py:906: FutureWarning: `torch.cuda.amp.autocast(args...)` is deprecated. Please use `torch.amp.autocast('cuda', args...)` instead.\n",
      "  with amp.autocast(autocast):\n",
      "C:\\Users\\10839330/.cache\\torch\\hub\\ultralytics_yolov5_master\\models\\common.py:906: FutureWarning: `torch.cuda.amp.autocast(args...)` is deprecated. Please use `torch.amp.autocast('cuda', args...)` instead.\n",
      "  with amp.autocast(autocast):\n",
      "C:\\Users\\10839330/.cache\\torch\\hub\\ultralytics_yolov5_master\\models\\common.py:906: FutureWarning: `torch.cuda.amp.autocast(args...)` is deprecated. Please use `torch.amp.autocast('cuda', args...)` instead.\n",
      "  with amp.autocast(autocast):\n",
      "C:\\Users\\10839330/.cache\\torch\\hub\\ultralytics_yolov5_master\\models\\common.py:906: FutureWarning: `torch.cuda.amp.autocast(args...)` is deprecated. Please use `torch.amp.autocast('cuda', args...)` instead.\n",
      "  with amp.autocast(autocast):\n"
     ]
    },
    {
     "name": "stdout",
     "output_type": "stream",
     "text": [
      "Detected objects in first frame: [{'xmin': 1299.9686279296875, 'ymin': 339.4145202636719, 'xmax': 1490.21826171875, 'ymax': 898.4437866210938, 'confidence': 0.8889763355255127, 'class': 0, 'name': 'person'}, {'xmin': 884.81494140625, 'ymin': 338.6013488769531, 'xmax': 1036.012451171875, 'ymax': 883.3131103515625, 'confidence': 0.8867971897125244, 'class': 0, 'name': 'person'}, {'xmin': 1598.5797119140625, 'ymin': 380.02862548828125, 'xmax': 1857.048828125, 'ymax': 945.7855224609375, 'confidence': 0.885729193687439, 'class': 0, 'name': 'person'}, {'xmin': 1159.235595703125, 'ymin': 369.9943542480469, 'xmax': 1323.4622802734375, 'ymax': 880.0205078125, 'confidence': 0.8689597845077515, 'class': 0, 'name': 'person'}, {'xmin': 1020.5399780273438, 'ymin': 354.8042907714844, 'xmax': 1193.2943115234375, 'ymax': 873.4462890625, 'confidence': 0.8673372864723206, 'class': 0, 'name': 'person'}, {'xmin': 69.0732421875, 'ymin': 260.69989013671875, 'xmax': 376.37127685546875, 'ymax': 1068.8575439453125, 'confidence': 0.8625873923301697, 'class': 0, 'name': 'person'}, {'xmin': 1424.891845703125, 'ymin': 306.5120849609375, 'xmax': 1666.6669921875, 'ymax': 905.40966796875, 'confidence': 0.8620592355728149, 'class': 0, 'name': 'person'}, {'xmin': 730.7057495117188, 'ymin': 331.137451171875, 'xmax': 902.7969360351562, 'ymax': 873.6820678710938, 'confidence': 0.8403751254081726, 'class': 0, 'name': 'person'}, {'xmin': 519.422607421875, 'ymin': 668.0088500976562, 'xmax': 602.0386962890625, 'ymax': 967.030517578125, 'confidence': 0.6919367909431458, 'class': 34, 'name': 'baseball bat'}, {'xmin': 504.42022705078125, 'ymin': 339.68182373046875, 'xmax': 724.9041748046875, 'ymax': 959.0443725585938, 'confidence': 0.6673497557640076, 'class': 0, 'name': 'person'}, {'xmin': 625.7722778320312, 'ymin': 348.6138916015625, 'xmax': 750.28564453125, 'ymax': 922.0061645507812, 'confidence': 0.6283991932868958, 'class': 0, 'name': 'person'}, {'xmin': 808.840576171875, 'ymin': 596.2252197265625, 'xmax': 896.4375, 'ymax': 849.5897827148438, 'confidence': 0.6270866990089417, 'class': 34, 'name': 'baseball bat'}, {'xmin': 244.3776397705078, 'ymin': 269.6564025878906, 'xmax': 426.6097717285156, 'ymax': 968.4013061523438, 'confidence': 0.6082579493522644, 'class': 0, 'name': 'person'}, {'xmin': 1296.1845703125, 'ymin': 640.5665893554688, 'xmax': 1354.8780517578125, 'ymax': 861.3312377929688, 'confidence': 0.5929959416389465, 'class': 34, 'name': 'baseball bat'}, {'xmin': 1730.6392822265625, 'ymin': 389.8975524902344, 'xmax': 1793.49169921875, 'ymax': 477.08990478515625, 'confidence': 0.5627447962760925, 'class': 0, 'name': 'person'}, {'xmin': 367.6011657714844, 'ymin': 383.4824523925781, 'xmax': 575.9716796875, 'ymax': 1001.7940673828125, 'confidence': 0.52338045835495, 'class': 0, 'name': 'person'}, {'xmin': 1178.5697021484375, 'ymin': 609.7380981445312, 'xmax': 1228.99951171875, 'ymax': 868.6431884765625, 'confidence': 0.5144727230072021, 'class': 34, 'name': 'baseball bat'}, {'xmin': 294.1143493652344, 'ymin': 557.7814331054688, 'xmax': 414.4692077636719, 'ymax': 1001.8286743164062, 'confidence': 0.3937578797340393, 'class': 34, 'name': 'baseball bat'}, {'xmin': 655.8759155273438, 'ymin': 618.2724609375, 'xmax': 733.1188354492188, 'ymax': 919.0332641601562, 'confidence': 0.3852984607219696, 'class': 34, 'name': 'baseball bat'}, {'xmin': 918.69677734375, 'ymin': 622.7857666015625, 'xmax': 997.90966796875, 'ymax': 868.0742797851562, 'confidence': 0.3516387939453125, 'class': 34, 'name': 'baseball bat'}, {'xmin': 0.0, 'ymin': 369.7167663574219, 'xmax': 81.55012512207031, 'ymax': 488.86212158203125, 'confidence': 0.28767552971839905, 'class': 58, 'name': 'potted plant'}]\n"
     ]
    }
   ],
   "source": [
    "video_file = 'IMG_4876.MOV'\n",
    "frames_folder = './extracted_frames'\n",
    "frames = extract_frames(video_file, frames_folder, fps=1)\n",
    "detections = detect_events_on(frames)\n",
    "print(f\"Detected objects in first frame: {detections[frames[0]]}\")"
   ]
  },
  {
   "cell_type": "code",
   "execution_count": 5,
   "id": "9c6d4b56",
   "metadata": {},
   "outputs": [
    {
     "name": "stderr",
     "output_type": "stream",
     "text": [
      "Using cache found in C:\\Users\\10839330/.cache\\torch\\hub\\ultralytics_yolov5_master\n",
      "YOLOv5  2025-8-5 Python-3.13.1 torch-2.7.1+cpu CPU\n",
      "\n",
      "Fusing layers... \n",
      "YOLOv5s summary: 213 layers, 7225885 parameters, 0 gradients, 16.4 GFLOPs\n",
      "Adding AutoShape... \n",
      "C:\\Users\\10839330/.cache\\torch\\hub\\ultralytics_yolov5_master\\models\\common.py:906: FutureWarning: `torch.cuda.amp.autocast(args...)` is deprecated. Please use `torch.amp.autocast('cuda', args...)` instead.\n",
      "  with amp.autocast(autocast):\n",
      "C:\\Users\\10839330/.cache\\torch\\hub\\ultralytics_yolov5_master\\models\\common.py:906: FutureWarning: `torch.cuda.amp.autocast(args...)` is deprecated. Please use `torch.amp.autocast('cuda', args...)` instead.\n",
      "  with amp.autocast(autocast):\n",
      "C:\\Users\\10839330/.cache\\torch\\hub\\ultralytics_yolov5_master\\models\\common.py:906: FutureWarning: `torch.cuda.amp.autocast(args...)` is deprecated. Please use `torch.amp.autocast('cuda', args...)` instead.\n",
      "  with amp.autocast(autocast):\n",
      "C:\\Users\\10839330/.cache\\torch\\hub\\ultralytics_yolov5_master\\models\\common.py:906: FutureWarning: `torch.cuda.amp.autocast(args...)` is deprecated. Please use `torch.amp.autocast('cuda', args...)` instead.\n",
      "  with amp.autocast(autocast):\n",
      "C:\\Users\\10839330/.cache\\torch\\hub\\ultralytics_yolov5_master\\models\\common.py:906: FutureWarning: `torch.cuda.amp.autocast(args...)` is deprecated. Please use `torch.amp.autocast('cuda', args...)` instead.\n",
      "  with amp.autocast(autocast):\n",
      "C:\\Users\\10839330/.cache\\torch\\hub\\ultralytics_yolov5_master\\models\\common.py:906: FutureWarning: `torch.cuda.amp.autocast(args...)` is deprecated. Please use `torch.amp.autocast('cuda', args...)` instead.\n",
      "  with amp.autocast(autocast):\n"
     ]
    },
    {
     "name": "stdout",
     "output_type": "stream",
     "text": [
      "Detected objects in first frame: []\n"
     ]
    }
   ],
   "source": [
    "video_file = 'IMG_4939.MOV'\n",
    "frames_folder = './extracted_frames'\n",
    "frames = extract_frames(video_file, frames_folder, fps=1)\n",
    "detections = detect_events_on(frames)\n",
    "print(f\"Detected objects in first frame: {detections[frames[0]]}\")"
   ]
  },
  {
   "cell_type": "code",
   "execution_count": 7,
   "id": "f41c8045",
   "metadata": {},
   "outputs": [
    {
     "name": "stderr",
     "output_type": "stream",
     "text": [
      "Using cache found in C:\\Users\\10839330/.cache\\torch\\hub\\ultralytics_yolov5_master\n",
      "YOLOv5  2025-8-5 Python-3.13.1 torch-2.7.1+cpu CPU\n",
      "\n",
      "Fusing layers... \n",
      "YOLOv5s summary: 213 layers, 7225885 parameters, 0 gradients, 16.4 GFLOPs\n",
      "Adding AutoShape... \n",
      "C:\\Users\\10839330/.cache\\torch\\hub\\ultralytics_yolov5_master\\models\\common.py:906: FutureWarning: `torch.cuda.amp.autocast(args...)` is deprecated. Please use `torch.amp.autocast('cuda', args...)` instead.\n",
      "  with amp.autocast(autocast):\n",
      "C:\\Users\\10839330/.cache\\torch\\hub\\ultralytics_yolov5_master\\models\\common.py:906: FutureWarning: `torch.cuda.amp.autocast(args...)` is deprecated. Please use `torch.amp.autocast('cuda', args...)` instead.\n",
      "  with amp.autocast(autocast):\n",
      "C:\\Users\\10839330/.cache\\torch\\hub\\ultralytics_yolov5_master\\models\\common.py:906: FutureWarning: `torch.cuda.amp.autocast(args...)` is deprecated. Please use `torch.amp.autocast('cuda', args...)` instead.\n",
      "  with amp.autocast(autocast):\n",
      "C:\\Users\\10839330/.cache\\torch\\hub\\ultralytics_yolov5_master\\models\\common.py:906: FutureWarning: `torch.cuda.amp.autocast(args...)` is deprecated. Please use `torch.amp.autocast('cuda', args...)` instead.\n",
      "  with amp.autocast(autocast):\n",
      "C:\\Users\\10839330/.cache\\torch\\hub\\ultralytics_yolov5_master\\models\\common.py:906: FutureWarning: `torch.cuda.amp.autocast(args...)` is deprecated. Please use `torch.amp.autocast('cuda', args...)` instead.\n",
      "  with amp.autocast(autocast):\n",
      "C:\\Users\\10839330/.cache\\torch\\hub\\ultralytics_yolov5_master\\models\\common.py:906: FutureWarning: `torch.cuda.amp.autocast(args...)` is deprecated. Please use `torch.amp.autocast('cuda', args...)` instead.\n",
      "  with amp.autocast(autocast):\n",
      "C:\\Users\\10839330/.cache\\torch\\hub\\ultralytics_yolov5_master\\models\\common.py:906: FutureWarning: `torch.cuda.amp.autocast(args...)` is deprecated. Please use `torch.amp.autocast('cuda', args...)` instead.\n",
      "  with amp.autocast(autocast):\n",
      "C:\\Users\\10839330/.cache\\torch\\hub\\ultralytics_yolov5_master\\models\\common.py:906: FutureWarning: `torch.cuda.amp.autocast(args...)` is deprecated. Please use `torch.amp.autocast('cuda', args...)` instead.\n",
      "  with amp.autocast(autocast):\n",
      "C:\\Users\\10839330/.cache\\torch\\hub\\ultralytics_yolov5_master\\models\\common.py:906: FutureWarning: `torch.cuda.amp.autocast(args...)` is deprecated. Please use `torch.amp.autocast('cuda', args...)` instead.\n",
      "  with amp.autocast(autocast):\n"
     ]
    },
    {
     "name": "stdout",
     "output_type": "stream",
     "text": [
      "Detected objects in first frame: [{'xmin': 55.911346435546875, 'ymin': 232.64492797851562, 'xmax': 1071.026611328125, 'ymax': 1906.935791015625, 'confidence': 0.8457403182983398, 'class': 0, 'name': 'person'}]\n"
     ]
    }
   ],
   "source": [
    "video_file = 'IMG_4049.MOV'\n",
    "frames_folder = './extracted_frames'\n",
    "frames = extract_frames(video_file, frames_folder, fps=1)\n",
    "detections = detect_events_on(frames)\n",
    "print(f\"Detected objects in first frame: {detections[frames[7]]}\")"
   ]
  },
  {
   "cell_type": "code",
   "execution_count": null,
   "id": "4f15c1e4",
   "metadata": {},
   "outputs": [],
   "source": []
  }
 ],
 "metadata": {
  "kernelspec": {
   "display_name": "Python 3",
   "language": "python",
   "name": "python3"
  },
  "language_info": {
   "codemirror_mode": {
    "name": "ipython",
    "version": 3
   },
   "file_extension": ".py",
   "mimetype": "text/x-python",
   "name": "python",
   "nbconvert_exporter": "python",
   "pygments_lexer": "ipython3",
   "version": "3.13.1"
  }
 },
 "nbformat": 4,
 "nbformat_minor": 5
}
