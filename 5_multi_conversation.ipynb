{
 "cells": [
  {
   "cell_type": "code",
   "execution_count": 7,
   "id": "f9d8309c",
   "metadata": {},
   "outputs": [],
   "source": [
    "from langchain.chat_models import ChatOpenAI\n",
    "from langchain_nvidia_ai_endpoints import ChatNVIDIA\n",
    "from langchain.memory import ConversationBufferMemory\n",
    "from langchain.chains import ConversationalRetrievalChain"
   ]
  },
  {
   "cell_type": "code",
   "execution_count": 15,
   "id": "d11a7107",
   "metadata": {},
   "outputs": [],
   "source": [
    "from langchain.schema import HumanMessage, AIMessage, SystemMessage\n",
    "from langchain.agents import AgentExecutor, create_openai_functions_agent\n",
    "from langchain.prompts import ChatPromptTemplate, HumanMessagePromptTemplate"
   ]
  },
  {
   "cell_type": "code",
   "execution_count": 8,
   "id": "6b674ca3",
   "metadata": {},
   "outputs": [
    {
     "data": {
      "text/plain": [
       "True"
      ]
     },
     "execution_count": 8,
     "metadata": {},
     "output_type": "execute_result"
    }
   ],
   "source": [
    "from dotenv import load_dotenv\n",
    "import os\n",
    "load_dotenv()"
   ]
  },
  {
   "cell_type": "code",
   "execution_count": 9,
   "id": "ddbef642",
   "metadata": {},
   "outputs": [],
   "source": [
    "model_name = os.getenv(\"LLAMA_MODEL_NAME\")\n",
    "api_key = os.getenv(\"LLAMA_API_KEY\")"
   ]
  },
  {
   "cell_type": "code",
   "execution_count": 10,
   "id": "92f5d0c7",
   "metadata": {},
   "outputs": [],
   "source": [
    "chat_model = ChatNVIDIA(\n",
    "    model = model_name,\n",
    "    api_key = api_key,\n",
    ")"
   ]
  },
  {
   "cell_type": "code",
   "execution_count": 17,
   "id": "7ad936c7",
   "metadata": {},
   "outputs": [],
   "source": [
    "summary = \"\"\"India is a country with its capital as Bengaluru, India. It is a state-run city-state with a population of 1.32 million and a GDP of $1.4 trillion.\"\"\""
   ]
  },
  {
   "cell_type": "code",
   "execution_count": 18,
   "id": "66f58836",
   "metadata": {},
   "outputs": [],
   "source": [
    "memory = ConversationBufferMemory(memory_key = \"chat_history\", return_messages=True)\n",
    "\n",
    "initial_context = summary"
   ]
  },
  {
   "cell_type": "code",
   "execution_count": 21,
   "id": "8db0881f",
   "metadata": {},
   "outputs": [],
   "source": [
    "def chat_conversation(user_input, memory, context):\n",
    "    \"\"\" \n",
    "    Simulates a conversation between a user and the summary agent using the provided memory and context.\n",
    "    Args:\n",
    "        user_input (str): The input from the user.\n",
    "        memory (ConversationBufferMemory): The memory to store conversation history.\n",
    "        context (str): The initial context for the conversation.\n",
    "\n",
    "    Returns:\n",
    "        response (str0: The response from the summary agent.\n",
    "    \"\"\"\n",
    "    prompt = f\"Context : \\n {context} \\n\\n User's question: \\n {user_input} \"\n",
    "\n",
    "    response = chat_model.invoke(prompt)\n",
    "\n",
    "    return response[0].text"
   ]
  },
  {
   "cell_type": "code",
   "execution_count": null,
   "id": "367958c1",
   "metadata": {},
   "outputs": [],
   "source": [
    "user_message  = \"What is the capital of India?\"\n",
    "answer = chat_conversation(user_message, memory, initial_context)\n",
    "print(\"Assistant's response: \", answer)\n"
   ]
  },
  {
   "cell_type": "code",
   "execution_count": null,
   "id": "81dfdddb",
   "metadata": {},
   "outputs": [],
   "source": []
  }
 ],
 "metadata": {
  "kernelspec": {
   "display_name": "Python 3",
   "language": "python",
   "name": "python3"
  },
  "language_info": {
   "codemirror_mode": {
    "name": "ipython",
    "version": 3
   },
   "file_extension": ".py",
   "mimetype": "text/x-python",
   "name": "python",
   "nbconvert_exporter": "python",
   "pygments_lexer": "ipython3",
   "version": "3.13.1"
  }
 },
 "nbformat": 4,
 "nbformat_minor": 5
}
