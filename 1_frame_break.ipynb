{
 "cells": [
  {
   "cell_type": "code",
   "execution_count": 1,
   "id": "dc3f7d6e",
   "metadata": {},
   "outputs": [],
   "source": [
    "import cv2\n",
    "import os"
   ]
  },
  {
   "cell_type": "code",
   "execution_count": 2,
   "id": "bcb12330",
   "metadata": {},
   "outputs": [],
   "source": [
    "def extract_frames(video_path, output_folder, fps = 1):\n",
    "    \"\"\" \n",
    "    Extracts frames from video at the specified frames for second rate.\n",
    "\n",
    "    Args: \n",
    "        video_path (str): Path to the input video file.\n",
    "        output_folder (str): Directory where extracted frames will be saved.\n",
    "        fps (int): Frames per second rate for extraction. Default is 1.\n",
    "\n",
    "    Returns:\n",
    "        List of frame file paths extracted.\n",
    "    \"\"\"\n",
    "\n",
    "    if not os.path.exists(output_folder):\n",
    "        os.makedirs(output_folder)\n",
    "\n",
    "    cap = cv2.VideoCapture(video_path)\n",
    "    original_fps = cap.get(cv2.CAP_PROP_FPS)\n",
    "    frame_interval = int(original_fps / fps)\n",
    "\n",
    "    count = 0\n",
    "    saved_frames = []\n",
    "\n",
    "    while True:\n",
    "        ret, frame = cap.read()\n",
    "        if not ret:\n",
    "            break\n",
    "\n",
    "        if count % frame_interval == 0:\n",
    "            frame_path = os.path.join(output_folder, f\"frame_{count}.jpg\")\n",
    "            cv2.imwrite(frame_path, frame)\n",
    "            saved_frames.append(frame_path)\n",
    "        count += 1\n",
    "\n",
    "    cap.release()\n",
    "    return saved_frames"
   ]
  },
  {
   "cell_type": "code",
   "execution_count": 4,
   "id": "cb8d3b07",
   "metadata": {},
   "outputs": [
    {
     "name": "stdout",
     "output_type": "stream",
     "text": [
      "Extracted 6 frames\n"
     ]
    }
   ],
   "source": [
    "video_file = 'IMG_4939.MOV'\n",
    "frames_folder = './extracted_frames'\n",
    "frames = extract_frames(video_file, frames_folder, fps=1)\n",
    "print(f\"Extracted {len(frames)} frames\")"
   ]
  },
  {
   "cell_type": "code",
   "execution_count": null,
   "id": "9e78f20d",
   "metadata": {},
   "outputs": [],
   "source": []
  }
 ],
 "metadata": {
  "kernelspec": {
   "display_name": "Python 3",
   "language": "python",
   "name": "python3"
  },
  "language_info": {
   "codemirror_mode": {
    "name": "ipython",
    "version": 3
   },
   "file_extension": ".py",
   "mimetype": "text/x-python",
   "name": "python",
   "nbconvert_exporter": "python",
   "pygments_lexer": "ipython3",
   "version": "3.13.1"
  }
 },
 "nbformat": 4,
 "nbformat_minor": 5
}
